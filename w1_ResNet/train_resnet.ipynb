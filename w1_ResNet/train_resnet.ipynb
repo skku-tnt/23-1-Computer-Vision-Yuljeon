{
 "cells": [
  {
   "cell_type": "code",
   "execution_count": 1,
   "metadata": {},
   "outputs": [],
   "source": [
    "import torch\n",
    "import torchvision\n",
    "from torch.utils.data import random_split\n",
    "import torchvision.transforms as transforms\n",
    "import torch.optim as optim\n",
    "import torch.nn as nn\n",
    "from torch.utils.data import DataLoader\n",
    "\n",
    "from resnet import resnet50"
   ]
  },
  {
   "cell_type": "code",
   "execution_count": 2,
   "metadata": {},
   "outputs": [
    {
     "name": "stdout",
     "output_type": "stream",
     "text": [
      "Files already downloaded and verified\n",
      "Files already downloaded and verified\n"
     ]
    }
   ],
   "source": [
    "# Define data transforms\n",
    "transform_train = transforms.Compose([\n",
    "    transforms.RandomCrop(32, padding=4),\n",
    "    transforms.RandomHorizontalFlip(),\n",
    "    transforms.ToTensor(),\n",
    "    transforms.Normalize((0.5, 0.5, 0.5), (0.5, 0.5, 0.5))\n",
    "])\n",
    "transform_test = transforms.Compose([\n",
    "    transforms.ToTensor(),\n",
    "    transforms.Normalize((0.5, 0.5, 0.5), (0.5, 0.5, 0.5))\n",
    "])\n",
    "\n",
    "# Load the CIFAR-10 dataset\n",
    "trainval_dataset = torchvision.datasets.CIFAR10(root='./data', train=True, download=True, transform=transform_train)\n",
    "test_dataset = torchvision.datasets.CIFAR10(root='./data', train=False, download=True, transform=transform_test)"
   ]
  },
  {
   "cell_type": "code",
   "execution_count": 3,
   "metadata": {},
   "outputs": [],
   "source": [
    "# Split trainval_dataset into train and validation sets\n",
    "train_size = int(0.8 * len(trainval_dataset))\n",
    "val_size = len(trainval_dataset) - train_size\n",
    "train_dataset, val_dataset = random_split(trainval_dataset, [train_size, val_size])\n",
    "\n",
    "# Create data loaders for the train, validation, and test sets\n",
    "train_loader = DataLoader(train_dataset, batch_size=256, shuffle=True)\n",
    "val_loader = DataLoader(val_dataset, batch_size=256, shuffle=False)\n",
    "test_loader = DataLoader(test_dataset, batch_size=256, shuffle=False)\n",
    "\n",
    "# Load the pre-trained ResNet50 model\n",
    "device = torch.device(\"cuda:0\" if torch.cuda.is_available() else \"cpu\")\n",
    "model = resnet50().to(device)"
   ]
  },
  {
   "cell_type": "code",
   "execution_count": 4,
   "metadata": {},
   "outputs": [],
   "source": [
    "# Define the loss function and optimizer\n",
    "criterion = nn.CrossEntropyLoss()\n",
    "optimizer = optim.Adam(model.parameters(), lr=0.001, weight_decay=0.0005)"
   ]
  },
  {
   "cell_type": "code",
   "execution_count": 5,
   "metadata": {},
   "outputs": [],
   "source": [
    "# Define the validation function\n",
    "def validate(model, testloader, criterion, device):\n",
    "    correct = 0\n",
    "    total = 0\n",
    "    running_loss = 0.0\n",
    "    with torch.no_grad():\n",
    "        for data in testloader:\n",
    "            images, labels = data[0].to(device), data[1].to(device)\n",
    "            outputs = model(images)\n",
    "            _, predicted = torch.max(outputs.data, 1)\n",
    "            total += labels.size(0)\n",
    "            correct += (predicted == labels).sum().item()\n",
    "            loss = criterion(outputs, labels)\n",
    "            running_loss += loss.item()\n",
    "    \n",
    "    val_accuracy = 100 * correct / total\n",
    "    val_loss = running_loss / len(testloader)\n",
    "    return val_accuracy, val_loss"
   ]
  },
  {
   "cell_type": "code",
   "execution_count": 6,
   "metadata": {},
   "outputs": [
    {
     "name": "stdout",
     "output_type": "stream",
     "text": [
      "Epoch 1, Loss 1.9802, Validation Loss 1.7223, Validation Accuracy 38.32%\n",
      "Epoch 2, Loss 1.6507, Validation Loss 1.5618, Validation Accuracy 43.43%\n",
      "Epoch 3, Loss 1.5087, Validation Loss 1.5345, Validation Accuracy 45.53%\n",
      "Epoch 4, Loss 1.5304, Validation Loss 1.4134, Validation Accuracy 48.67%\n",
      "Epoch 5, Loss 1.4357, Validation Loss 1.4067, Validation Accuracy 50.70%\n",
      "Epoch 6, Loss 1.2985, Validation Loss 1.3060, Validation Accuracy 54.35%\n",
      "Epoch 7, Loss 1.2170, Validation Loss 1.1512, Validation Accuracy 58.74%\n",
      "Epoch 8, Loss 1.1680, Validation Loss 1.1657, Validation Accuracy 58.23%\n",
      "Epoch 9, Loss 1.0706, Validation Loss 1.0541, Validation Accuracy 62.81%\n",
      "Epoch 10, Loss 1.0041, Validation Loss 1.0256, Validation Accuracy 63.85%\n",
      "Epoch 11, Loss 0.9567, Validation Loss 0.9981, Validation Accuracy 65.48%\n",
      "Epoch 12, Loss 0.9054, Validation Loss 0.9648, Validation Accuracy 66.73%\n",
      "Epoch 13, Loss 0.8741, Validation Loss 0.9539, Validation Accuracy 67.44%\n",
      "Epoch 14, Loss 0.8485, Validation Loss 0.8750, Validation Accuracy 69.67%\n",
      "Epoch 15, Loss 0.8068, Validation Loss 0.8667, Validation Accuracy 70.26%\n",
      "Epoch 16, Loss 0.7894, Validation Loss 0.8060, Validation Accuracy 72.01%\n",
      "Epoch 17, Loss 0.7571, Validation Loss 0.8266, Validation Accuracy 71.47%\n",
      "Epoch 18, Loss 0.7396, Validation Loss 0.7858, Validation Accuracy 72.16%\n",
      "Epoch 19, Loss 0.7159, Validation Loss 0.7900, Validation Accuracy 73.38%\n",
      "Epoch 20, Loss 0.7014, Validation Loss 0.7584, Validation Accuracy 74.69%\n",
      "Epoch 21, Loss 0.6830, Validation Loss 0.7302, Validation Accuracy 75.67%\n",
      "Epoch 22, Loss 0.6655, Validation Loss 0.7152, Validation Accuracy 75.81%\n",
      "Epoch 23, Loss 0.6445, Validation Loss 0.7595, Validation Accuracy 74.43%\n",
      "Epoch 24, Loss 0.6399, Validation Loss 0.7273, Validation Accuracy 75.10%\n",
      "Epoch 25, Loss 0.6223, Validation Loss 0.6849, Validation Accuracy 77.04%\n",
      "Epoch 26, Loss 0.6090, Validation Loss 0.7171, Validation Accuracy 75.93%\n",
      "Epoch 27, Loss 0.6006, Validation Loss 0.7087, Validation Accuracy 76.19%\n",
      "Epoch 28, Loss 0.5806, Validation Loss 0.7119, Validation Accuracy 76.25%\n",
      "Epoch 29, Loss 0.5810, Validation Loss 0.7418, Validation Accuracy 75.54%\n",
      "Epoch 30, Loss 0.5757, Validation Loss 0.6914, Validation Accuracy 76.99%\n",
      "Epoch 31, Loss 0.5555, Validation Loss 0.6830, Validation Accuracy 77.13%\n",
      "Epoch 32, Loss 0.5489, Validation Loss 0.6438, Validation Accuracy 78.28%\n",
      "Epoch 33, Loss 0.5397, Validation Loss 0.6397, Validation Accuracy 78.36%\n",
      "Epoch 34, Loss 0.5264, Validation Loss 0.6525, Validation Accuracy 78.42%\n",
      "Epoch 35, Loss 0.5307, Validation Loss 0.6608, Validation Accuracy 77.95%\n",
      "Epoch 36, Loss 0.5151, Validation Loss 0.6572, Validation Accuracy 78.55%\n",
      "Epoch 37, Loss 0.5081, Validation Loss 0.6540, Validation Accuracy 78.56%\n",
      "Epoch 38, Loss 0.4996, Validation Loss 0.6361, Validation Accuracy 79.26%\n",
      "Epoch 39, Loss 0.4966, Validation Loss 0.6473, Validation Accuracy 79.00%\n",
      "Epoch 40, Loss 0.4919, Validation Loss 0.6269, Validation Accuracy 79.30%\n",
      "Epoch 41, Loss 0.4748, Validation Loss 0.6182, Validation Accuracy 79.80%\n",
      "Epoch 42, Loss 0.4740, Validation Loss 0.6019, Validation Accuracy 79.67%\n",
      "Epoch 43, Loss 0.4710, Validation Loss 0.6602, Validation Accuracy 78.25%\n",
      "Epoch 44, Loss 0.4667, Validation Loss 0.6044, Validation Accuracy 79.98%\n",
      "Epoch 45, Loss 0.4477, Validation Loss 0.6034, Validation Accuracy 79.74%\n",
      "Epoch 46, Loss 0.4451, Validation Loss 0.6177, Validation Accuracy 79.69%\n",
      "Epoch 47, Loss 0.4454, Validation Loss 0.6195, Validation Accuracy 79.65%\n",
      "Epoch 48, Loss 0.4380, Validation Loss 0.5798, Validation Accuracy 80.87%\n",
      "Epoch 49, Loss 0.4362, Validation Loss 0.6098, Validation Accuracy 80.25%\n",
      "Epoch 50, Loss 0.4294, Validation Loss 0.5816, Validation Accuracy 80.70%\n",
      "Epoch 51, Loss 0.4244, Validation Loss 0.6065, Validation Accuracy 80.13%\n",
      "Epoch 52, Loss 0.4227, Validation Loss 0.5546, Validation Accuracy 81.59%\n",
      "Epoch 53, Loss 0.4187, Validation Loss 0.5822, Validation Accuracy 80.87%\n",
      "Epoch 54, Loss 0.4204, Validation Loss 0.5721, Validation Accuracy 81.51%\n",
      "Epoch 55, Loss 0.4034, Validation Loss 0.5841, Validation Accuracy 81.15%\n",
      "Epoch 56, Loss 0.4106, Validation Loss 0.5756, Validation Accuracy 81.31%\n",
      "Epoch 57, Loss 0.3968, Validation Loss 0.5684, Validation Accuracy 81.35%\n",
      "Epoch 58, Loss 0.3913, Validation Loss 0.5909, Validation Accuracy 80.36%\n",
      "Epoch 59, Loss 0.3939, Validation Loss 0.5622, Validation Accuracy 81.07%\n",
      "Epoch 60, Loss 0.3909, Validation Loss 0.5675, Validation Accuracy 81.67%\n",
      "Epoch 61, Loss 0.3887, Validation Loss 0.5772, Validation Accuracy 81.33%\n",
      "Epoch 62, Loss 0.3770, Validation Loss 0.5695, Validation Accuracy 81.73%\n",
      "Epoch 63, Loss 0.3761, Validation Loss 0.5797, Validation Accuracy 81.30%\n",
      "Epoch 64, Loss 0.3874, Validation Loss 0.5585, Validation Accuracy 81.79%\n",
      "Epoch 65, Loss 0.3716, Validation Loss 0.5409, Validation Accuracy 82.23%\n",
      "Epoch 66, Loss 0.3683, Validation Loss 0.5605, Validation Accuracy 81.69%\n",
      "Epoch 67, Loss 0.3709, Validation Loss 0.5705, Validation Accuracy 81.78%\n",
      "Epoch 68, Loss 0.3641, Validation Loss 0.5607, Validation Accuracy 81.99%\n",
      "Epoch 69, Loss 0.3667, Validation Loss 0.5599, Validation Accuracy 81.90%\n",
      "Epoch 70, Loss 0.3540, Validation Loss 0.5566, Validation Accuracy 81.80%\n",
      "Epoch 71, Loss 0.3563, Validation Loss 0.5540, Validation Accuracy 82.13%\n",
      "Epoch 72, Loss 0.3526, Validation Loss 0.5529, Validation Accuracy 81.98%\n",
      "Epoch 73, Loss 0.3490, Validation Loss 0.5458, Validation Accuracy 82.32%\n",
      "Epoch 74, Loss 0.3520, Validation Loss 0.5714, Validation Accuracy 81.68%\n",
      "Epoch 75, Loss 0.3467, Validation Loss 0.5699, Validation Accuracy 81.44%\n",
      "Epoch 76, Loss 0.3409, Validation Loss 0.5452, Validation Accuracy 82.35%\n",
      "Epoch 77, Loss 0.3378, Validation Loss 0.5326, Validation Accuracy 82.74%\n",
      "Epoch 78, Loss 0.3404, Validation Loss 0.5336, Validation Accuracy 82.35%\n",
      "Epoch 79, Loss 0.3396, Validation Loss 0.5443, Validation Accuracy 82.41%\n",
      "Epoch 80, Loss 0.3463, Validation Loss 0.5416, Validation Accuracy 82.43%\n",
      "Epoch 81, Loss 0.3369, Validation Loss 0.5523, Validation Accuracy 82.18%\n",
      "Epoch 82, Loss 0.3324, Validation Loss 0.5514, Validation Accuracy 82.58%\n",
      "Epoch 83, Loss 0.3304, Validation Loss 0.5490, Validation Accuracy 82.03%\n",
      "Epoch 84, Loss 0.3231, Validation Loss 0.5727, Validation Accuracy 81.66%\n",
      "Epoch 85, Loss 0.3336, Validation Loss 0.5598, Validation Accuracy 81.63%\n",
      "Epoch 86, Loss 0.3282, Validation Loss 0.5416, Validation Accuracy 82.73%\n",
      "Epoch 87, Loss 0.3258, Validation Loss 0.5629, Validation Accuracy 82.09%\n",
      "Epoch 88, Loss 0.3328, Validation Loss 0.5873, Validation Accuracy 81.43%\n",
      "Epoch 89, Loss 0.3184, Validation Loss 0.5565, Validation Accuracy 81.84%\n",
      "Epoch 90, Loss 0.3186, Validation Loss 0.5631, Validation Accuracy 82.75%\n",
      "Epoch 91, Loss 0.3147, Validation Loss 0.5549, Validation Accuracy 82.56%\n",
      "Epoch 92, Loss 0.3160, Validation Loss 0.5507, Validation Accuracy 82.55%\n",
      "Validation loss did not improve for 15 epochs, stopping training\n"
     ]
    }
   ],
   "source": [
    "best_loss = float('inf')\n",
    "patience = 15\n",
    "counter = 0\n",
    "\n",
    "# Train the model\n",
    "for epoch in range(200):\n",
    "    running_loss = 0.0\n",
    "    for i, data in enumerate(train_loader, 0):\n",
    "        inputs, labels = data[0].to(device), data[1].to(device)\n",
    "        optimizer.zero_grad()\n",
    "        outputs = model(inputs)\n",
    "        loss = criterion(outputs, labels)\n",
    "        loss.backward()\n",
    "        optimizer.step()\n",
    "\n",
    "        running_loss += loss.item()\n",
    "\n",
    "    # Validate the model every 1 epoch\n",
    "    if (epoch + 1) % 1 == 0:\n",
    "        val_accuracy, val_loss = validate(model, val_loader, criterion, device)\n",
    "        print(f'Epoch {epoch + 1}, Loss {running_loss / len(train_loader):.4f}, Validation Loss {val_loss:.4f}, Validation Accuracy {val_accuracy:.2f}%')\n",
    "        running_loss = 0.0\n",
    "\n",
    "        if val_loss < best_loss:\n",
    "            best_loss = val_loss\n",
    "            model_name = f'models/resnet50_best_epoch.pth'\n",
    "            torch.save(model.state_dict(), model_name)\n",
    "            counter = 0\n",
    "\n",
    "        else:\n",
    "            counter += 1\n",
    "            if counter >= patience:\n",
    "                print(f'Validation loss did not improve for {patience} epochs, stopping training')\n",
    "                break"
   ]
  },
  {
   "cell_type": "code",
   "execution_count": 8,
   "metadata": {},
   "outputs": [
    {
     "name": "stdout",
     "output_type": "stream",
     "text": [
      "Test Accuracy: 81.48\n"
     ]
    }
   ],
   "source": [
    "model.load_state_dict(torch.load(f'models/resnet50_best_epoch.pth'))\n",
    "\n",
    "# Evaluate the final model on the test set\n",
    "test_accuracy, _ = validate(model, test_loader, criterion, device)\n",
    "print(f'Test Accuracy: {test_accuracy}')"
   ]
  },
  {
   "cell_type": "code",
   "execution_count": null,
   "metadata": {},
   "outputs": [],
   "source": []
  }
 ],
 "metadata": {
  "kernelspec": {
   "display_name": "base",
   "language": "python",
   "name": "python3"
  },
  "language_info": {
   "codemirror_mode": {
    "name": "ipython",
    "version": 3
   },
   "file_extension": ".py",
   "mimetype": "text/x-python",
   "name": "python",
   "nbconvert_exporter": "python",
   "pygments_lexer": "ipython3",
   "version": "3.9.12"
  },
  "orig_nbformat": 4
 },
 "nbformat": 4,
 "nbformat_minor": 2
}
