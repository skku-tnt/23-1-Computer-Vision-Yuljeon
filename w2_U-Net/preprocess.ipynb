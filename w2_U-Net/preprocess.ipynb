{
 "cells": [
  {
   "cell_type": "code",
   "execution_count": 1,
   "metadata": {},
   "outputs": [],
   "source": [
    "import os\n",
    "import numpy as np\n",
    "from PIL import Image\n",
    "import matplotlib.pyplot as plt"
   ]
  },
  {
   "cell_type": "code",
   "execution_count": 2,
   "metadata": {},
   "outputs": [],
   "source": [
    "dir_data = './raw_images'\n",
    "\n",
    "train_label = 'train-labels.tif'\n",
    "train_image = 'train-volume.tif'\n",
    "test_image = 'test-volume.tif'\n",
    "\n",
    "img_train_label = Image.open(os.path.join(dir_data, train_label))\n",
    "img_train_image = Image.open(os.path.join(dir_data, train_image))\n",
    "img_test_image = Image.open(os.path.join(dir_data, test_image))"
   ]
  },
  {
   "cell_type": "code",
   "execution_count": 3,
   "metadata": {},
   "outputs": [],
   "source": [
    "ny, nx = img_train_label.size\n",
    "nframe = img_train_label.n_frames"
   ]
  },
  {
   "cell_type": "code",
   "execution_count": 4,
   "metadata": {},
   "outputs": [],
   "source": [
    "nframe_train = 24\n",
    "nframe_val = 3\n",
    "nframe_test = 3\n",
    "\n",
    "dir_preprocessed = './data'\n",
    "\n",
    "train_image_dir = os.path.join(dir_preprocessed, 'train/image')\n",
    "train_label_dir = os.path.join(dir_preprocessed, 'train/label')\n",
    "test_image_dir = os.path.join(dir_preprocessed, 'test/image')\n",
    "test_label_dir = os.path.join(dir_preprocessed, 'test/label')\n",
    "val_image_dir = os.path.join(dir_preprocessed, 'val/image')\n",
    "val_label_dir = os.path.join(dir_preprocessed, 'val/label')\n",
    "\n",
    "test_nolabel_image_dir = os.path.join(dir_preprocessed, 'test_nolabel/image')"
   ]
  },
  {
   "cell_type": "code",
   "execution_count": 5,
   "metadata": {},
   "outputs": [],
   "source": [
    "id_frame = np.arange(nframe)\n",
    "np.random.shuffle(id_frame)"
   ]
  },
  {
   "cell_type": "code",
   "execution_count": 6,
   "metadata": {},
   "outputs": [],
   "source": [
    "offset_nframe = 0\n",
    "for i in range(nframe_train):\n",
    "    img_train_label.seek(id_frame[i + offset_nframe])\n",
    "\n",
    "    label_ = np.asarray(img_train_label)\n",
    "\n",
    "    sub_arrays = np.split(label_, 2, axis=0)\n",
    "    sub_arrays = [np.split(sub_arr, 2, axis=1) for sub_arr in sub_arrays]\n",
    "    sub_arrays = np.reshape(sub_arrays, (4, 256, 256))\n",
    "\n",
    "    for j, sub in enumerate(sub_arrays):\n",
    "        Image.fromarray(sub).save(os.path.join(train_label_dir, 'label_%01d_%01d.tif' % (i, j)))"
   ]
  },
  {
   "cell_type": "code",
   "execution_count": 7,
   "metadata": {},
   "outputs": [],
   "source": [
    "offset_nframe = 0\n",
    "for i in range(nframe_train):\n",
    "    img_train_image.seek(id_frame[i + offset_nframe])\n",
    "\n",
    "    image_ = np.asarray(img_train_image)\n",
    "\n",
    "    sub_arrays = np.split(image_, 2, axis=0)\n",
    "    sub_arrays = [np.split(sub_arr, 2, axis=1) for sub_arr in sub_arrays]\n",
    "    sub_arrays = np.reshape(sub_arrays, (4, 256, 256))\n",
    "\n",
    "    for j, sub in enumerate(sub_arrays):\n",
    "        Image.fromarray(sub).save(os.path.join(train_image_dir, 'image_%01d_%01d.tif' % (i, j)))\n",
    "        "
   ]
  },
  {
   "cell_type": "code",
   "execution_count": 8,
   "metadata": {},
   "outputs": [],
   "source": [
    "offset_nframe = nframe_train\n",
    "for i in range(nframe_val):\n",
    "    img_train_label.seek(id_frame[i + offset_nframe])\n",
    "\n",
    "    label_ = np.asarray(img_train_label)\n",
    "\n",
    "    sub_arrays = np.split(label_, 2, axis=0)\n",
    "    sub_arrays = [np.split(sub_arr, 2, axis=1) for sub_arr in sub_arrays]\n",
    "    sub_arrays = np.reshape(sub_arrays, (4, 256, 256))\n",
    "\n",
    "    for j, sub in enumerate(sub_arrays):\n",
    "        Image.fromarray(sub).save(os.path.join(val_label_dir, 'label_%01d_%01d.tif' % (i, j)))"
   ]
  },
  {
   "cell_type": "code",
   "execution_count": 9,
   "metadata": {},
   "outputs": [],
   "source": [
    "offset_nframe = nframe_train\n",
    "for i in range(nframe_val):\n",
    "    img_train_image.seek(id_frame[i + offset_nframe])\n",
    "\n",
    "    image_ = np.asarray(img_train_image)\n",
    "\n",
    "    sub_arrays = np.split(image_, 2, axis=0)\n",
    "    sub_arrays = [np.split(sub_arr, 2, axis=1) for sub_arr in sub_arrays]\n",
    "    sub_arrays = np.reshape(sub_arrays, (4, 256, 256))\n",
    "\n",
    "    for j, sub in enumerate(sub_arrays):\n",
    "        Image.fromarray(sub).save(os.path.join(val_image_dir, 'image_%01d_%01d.tif' % (i, j)))"
   ]
  },
  {
   "cell_type": "code",
   "execution_count": 10,
   "metadata": {},
   "outputs": [],
   "source": [
    "offset_nframe = nframe_train + nframe_val\n",
    "for i in range(nframe_test):\n",
    "    img_train_label.seek(id_frame[i + offset_nframe])\n",
    "\n",
    "    label_ = np.asarray(img_train_label)\n",
    "\n",
    "    sub_arrays = np.split(label_, 2, axis=0)\n",
    "    sub_arrays = [np.split(sub_arr, 2, axis=1) for sub_arr in sub_arrays]\n",
    "    sub_arrays = np.reshape(sub_arrays, (4, 256, 256))\n",
    "\n",
    "    for j, sub in enumerate(sub_arrays):\n",
    "        Image.fromarray(sub).save(os.path.join(test_label_dir, 'label_%01d_%01d.tif' % (i, j)))"
   ]
  },
  {
   "cell_type": "code",
   "execution_count": 11,
   "metadata": {},
   "outputs": [],
   "source": [
    "# test, image\n",
    "offset_nframe = nframe_train + nframe_val\n",
    "for i in range(nframe_test):\n",
    "    img_train_image.seek(id_frame[i + offset_nframe])\n",
    "\n",
    "    image_ = np.asarray(img_train_image)\n",
    "\n",
    "    sub_arrays = np.split(image_, 2, axis=0)\n",
    "    sub_arrays = [np.split(sub_arr, 2, axis=1) for sub_arr in sub_arrays]\n",
    "    sub_arrays = np.reshape(sub_arrays, (4, 256, 256))\n",
    "\n",
    "    for j, sub in enumerate(sub_arrays):\n",
    "        Image.fromarray(sub).save(os.path.join(test_image_dir, 'image_%01d_%01d.tif' % (i, j)))"
   ]
  },
  {
   "cell_type": "code",
   "execution_count": 12,
   "metadata": {},
   "outputs": [],
   "source": [
    "for i in range(30):\n",
    "    img_train_image.seek(id_frame[i])\n",
    "\n",
    "    image_ = np.asarray(img_test_image)\n",
    "\n",
    "    sub_arrays = np.split(image_, 2, axis=0)\n",
    "    sub_arrays = [np.split(sub_arr, 2, axis=1) for sub_arr in sub_arrays]\n",
    "    sub_arrays = np.reshape(sub_arrays, (4, 256, 256))\n",
    "\n",
    "    for j, sub in enumerate(sub_arrays):\n",
    "        Image.fromarray(sub).save(os.path.join(test_nolabel_image_dir, 'image_%01d_%01d.tif' % (i, j)))"
   ]
  }
 ],
 "metadata": {
  "kernelspec": {
   "display_name": "base",
   "language": "python",
   "name": "python3"
  },
  "language_info": {
   "codemirror_mode": {
    "name": "ipython",
    "version": 3
   },
   "file_extension": ".py",
   "mimetype": "text/x-python",
   "name": "python",
   "nbconvert_exporter": "python",
   "pygments_lexer": "ipython3",
   "version": "3.9.12"
  },
  "orig_nbformat": 4
 },
 "nbformat": 4,
 "nbformat_minor": 2
}
